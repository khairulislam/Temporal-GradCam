{
 "cells": [
  {
   "cell_type": "code",
   "execution_count": null,
   "metadata": {},
   "outputs": [],
   "source": [
    "import os\n",
    "import SimpleITK as sitk\n",
    "import numpy as np\n",
    "import matplotlib.pyplot as plt \n",
    "\n",
    "\n",
    "### Read Image ###\n",
    "img_path = r'E:\\affined_OAS30013_MR_d0102.nii.gz'\n",
    "\n",
    "img = sitk.ReadImage(img_path)\n",
    "imr_arr = sitk.GetArrayFromImage(img)\n",
    "print(imr_arr.shape)"
   ]
  },
  {
   "cell_type": "code",
   "execution_count": null,
   "metadata": {},
   "outputs": [],
   "source": [
    "### Read all the images in a folder ###\n",
    "\n",
    "rootdir = r'E:\\image_folder'\n",
    "for subdir, dirs, files in os.walk(rootdir):\n",
    "    for file in files:\n",
    "        file_path = os.path.join(subdir, file)\n",
    "\n",
    "        print(file_path)"
   ]
  },
  {
   "cell_type": "code",
   "execution_count": null,
   "metadata": {},
   "outputs": [],
   "source": [
    "### Classification Process ###\n",
    "\n",
    "# https://pytorch.org/vision/stable/models.html\n",
    "# https://pytorch.org/tutorials/beginner/blitz/cifar10_tutorial.html"
   ]
  }
 ],
 "metadata": {
  "language_info": {
   "name": "python"
  },
  "orig_nbformat": 4
 },
 "nbformat": 4,
 "nbformat_minor": 2
}
