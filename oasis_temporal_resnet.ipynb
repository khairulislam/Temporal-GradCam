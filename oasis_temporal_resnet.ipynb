{
 "cells": [
  {
   "cell_type": "markdown",
   "metadata": {},
   "source": [
    "# Imports"
   ]
  },
  {
   "cell_type": "code",
   "execution_count": 1,
   "metadata": {},
   "outputs": [],
   "source": [
    "import os, torch, random\n",
    "import SimpleITK, re\n",
    "import numpy as np\n",
    "import matplotlib.pyplot as plt \n",
    "from torchvision import transforms, models\n",
    "from torch.utils.data import DataLoader\n",
    "import re\n",
    "from sklearn.metrics import accuracy_score, f1_score, roc_auc_score\n",
    "\n",
    "from torch.optim.lr_scheduler import ReduceLROnPlateau\n",
    "from utils.callbacks import EarlyStopping\n",
    "from sklearn.metrics import roc_auc_score, f1_score, accuracy_score\n",
    "\n",
    "from torch.utils.data import Dataset\n",
    "from sklearn.model_selection import train_test_split"
   ]
  },
  {
   "cell_type": "code",
   "execution_count": 2,
   "metadata": {},
   "outputs": [],
   "source": [
    "SEED = 2024\n",
    "\n",
    "def seed_everything(seed):\n",
    "    random.seed(seed)\n",
    "    torch.manual_seed(seed)\n",
    "    np.random.seed(seed)\n",
    "\n",
    "seed_everything(SEED)"
   ]
  },
  {
   "cell_type": "markdown",
   "metadata": {},
   "source": [
    "## GPU"
   ]
  },
  {
   "cell_type": "code",
   "execution_count": 3,
   "metadata": {},
   "outputs": [
    {
     "name": "stdout",
     "output_type": "stream",
     "text": [
      "Using cuda device\n"
     ]
    }
   ],
   "source": [
    "# Get cpu, gpu or mps device for training.\n",
    "device = (\n",
    "    \"cuda\"\n",
    "    if torch.cuda.is_available()\n",
    "    else \"mps\"\n",
    "    if torch.backends.mps.is_available()\n",
    "    else \"cpu\"\n",
    ")\n",
    "print(f\"Using {device} device\")"
   ]
  },
  {
   "cell_type": "markdown",
   "metadata": {},
   "source": [
    "# Dataset"
   ]
  },
  {
   "cell_type": "code",
   "execution_count": 4,
   "metadata": {},
   "outputs": [],
   "source": [
    "class OASIS_TemporalDataset(Dataset):\n",
    "    def __init__(self, features, train, seed=7):\n",
    "        self.train = train\n",
    "        self.seed = seed\n",
    "        self.selected_patients = self.split(features)\n",
    "        \n",
    "        id_day_map = {}\n",
    "        id_day_feature_map = {}\n",
    "\n",
    "        for patient_id, day, feature, label in zip(\n",
    "            features['patient_id'], features['day'], \n",
    "            features['feature'], features['label']\n",
    "        ):\n",
    "            if patient_id not in self.selected_patients: continue\n",
    "            \n",
    "            if patient_id not in id_day_map:\n",
    "                id_day_map[patient_id] = [day]\n",
    "            else:    \n",
    "                id_day_map[patient_id].append(day)\n",
    "                \n",
    "            id_day_feature_map[(patient_id, day)] = (feature, label)\n",
    "            \n",
    "        self.id_day_map = id_day_map\n",
    "        self.id_day_feature_map = id_day_feature_map\n",
    "        self.id_days = list(id_day_feature_map.keys())\n",
    "        \n",
    "    def split(self, features):\n",
    "        patient_ids, labels = [], []\n",
    "        for i in range(len(features['patient_id'])):\n",
    "            patient_id = features['patient_id'][i]\n",
    "        \n",
    "            if patient_id in patient_ids: continue\n",
    "            \n",
    "            patient_ids.append(patient_id)\n",
    "            # assuming same patient id and day can't be in both healthy and disease dir\n",
    "            labels.append(features['label'][i])\n",
    "        \n",
    "        train_ids, test_ids = train_test_split(\n",
    "            patient_ids, test_size=0.2, shuffle=True, \n",
    "            random_state=self.seed, stratify=labels\n",
    "        )\n",
    "        \n",
    "        if self.train: return train_ids\n",
    "        else: return test_ids\n",
    "        \n",
    "    def __len__(self):\n",
    "        return len(self.id_days)\n",
    "    \n",
    "    def __getitem__(self, idx):\n",
    "        id, current_day = self.id_days[idx]\n",
    "        \n",
    "        # sort the current and previous days in ascending order\n",
    "        prev_days = sorted([day for day in self.id_day_map[id] if day <= current_day])\n",
    "        \n",
    "        # get feature for each previous day\n",
    "        features = np.array([self.id_day_feature_map[(id, d)][0] for d in prev_days]    )\n",
    "        \n",
    "        # predict the label for the current day\n",
    "        label = self.id_day_feature_map[(id, current_day)][1]\n",
    "        \n",
    "        return torch.tensor(features), torch.tensor(label)"
   ]
  },
  {
   "cell_type": "markdown",
   "metadata": {},
   "source": [
    "# Model"
   ]
  },
  {
   "cell_type": "code",
   "execution_count": 5,
   "metadata": {},
   "outputs": [],
   "source": [
    "class LstmModel(torch.nn.Module):\n",
    "    def __init__(\n",
    "        self, input_size=512, num_layers=1, \n",
    "        hidden_size=64, output_size=2, dropout=0.1\n",
    "    ):\n",
    "        super(LstmModel, self).__init__()\n",
    "        # input shape is (batch, seq_len, features)\n",
    "        self.lstm = torch.nn.LSTM(\n",
    "            input_size=input_size, \n",
    "            hidden_size= hidden_size, \n",
    "            num_layers=num_layers,\n",
    "            batch_first=True\n",
    "        )\n",
    "        self.dropout = torch.nn.Dropout(dropout)\n",
    "        self.fc = torch.nn.Linear(hidden_size, 1)\n",
    "        \n",
    "    def forward(self, x):\n",
    "        # The output of nn.LSTM() is a tuple. The first \n",
    "        # element is the generated hidden states, \n",
    "        # one for each time step of the input. The \n",
    "        # second element is the LSTM cell’s memory \n",
    "        # and hidden states, which is not used here.\n",
    "        # output (batch x hidden_size), (hc, cn)\n",
    "        x, _ = self.lstm(x) \n",
    "        \n",
    "        # The output of hidden states is further processed by a \n",
    "        # fully-connected layer to produce a single regression result. \n",
    "        # Since the output from LSTM is one per each input time step, \n",
    "        # you can chooce to pick only the last timestep’s output\n",
    "        # x = self.fc(x[:, -1, :])\n",
    "        x = self.fc(self.dropout(x[:, -1]))\n",
    "        \n",
    "        return x"
   ]
  },
  {
   "cell_type": "markdown",
   "metadata": {},
   "source": [
    "# Experiment"
   ]
  },
  {
   "cell_type": "markdown",
   "metadata": {},
   "source": [
    "## Result dir"
   ]
  },
  {
   "cell_type": "code",
   "execution_count": 6,
   "metadata": {},
   "outputs": [],
   "source": [
    "result_dir = os.path.join('OASIS_2D', 'scratch', 'ResNet')\n",
    "\n",
    "if not os.path.exists(result_dir):\n",
    "    os.makedirs(result_dir, exist_ok=True)"
   ]
  },
  {
   "cell_type": "markdown",
   "metadata": {},
   "source": [
    "## Load extracted features"
   ]
  },
  {
   "cell_type": "code",
   "execution_count": 7,
   "metadata": {},
   "outputs": [
    {
     "name": "stdout",
     "output_type": "stream",
     "text": [
      "Extracted feature has dimension 512\n"
     ]
    }
   ],
   "source": [
    "# features = {\n",
    "#     'patient_id': total_dataset.patient_ids,\n",
    "#     'day': total_dataset.days,\n",
    "#     'label': total_dataset.labels,\n",
    "#     'feature': all_outputs\n",
    "# }\n",
    "\n",
    "features = torch.load(os.path.join(result_dir, 'features.pt'))\n",
    "\n",
    "dimension = len(features['feature'][0])\n",
    "print(f'Extracted feature has dimension {dimension}')"
   ]
  },
  {
   "cell_type": "markdown",
   "metadata": {},
   "source": [
    "## Dataloader"
   ]
  },
  {
   "cell_type": "markdown",
   "metadata": {},
   "source": [
    "### Util"
   ]
  },
  {
   "cell_type": "code",
   "execution_count": 63,
   "metadata": {},
   "outputs": [],
   "source": [
    "def collate_fn(data, max_len=None):\n",
    "    \"\"\"Build mini-batch tensors from a list of (X, mask) tuples. Mask input. Create\n",
    "    Args:\n",
    "        data: len(batch_size) list of tuples (X, y).\n",
    "            - X: torch tensor of shape (seq_length, feat_dim); variable seq_length.\n",
    "            - y: torch tensor of shape (num_labels,) : class indices or numerical targets\n",
    "                (for classification or regression, respectively). num_labels > 1 for multi-task models\n",
    "        max_len: global fixed sequence length. Used for architectures requiring fixed length input,\n",
    "            where the batch length cannot vary dynamically. Longer sequences are clipped, shorter are padded with 0s\n",
    "    Returns:\n",
    "        X: (batch_size, padded_length, feat_dim) torch tensor of masked features (input)\n",
    "        targets: (batch_size, padded_length, feat_dim) torch tensor of unmasked features (output)\n",
    "        target_masks: (batch_size, padded_length, feat_dim) boolean torch tensor\n",
    "            0 indicates masked values to be predicted, 1 indicates unaffected/\"active\" feature values\n",
    "        padding_masks: (batch_size, padded_length) boolean tensor, 1 means keep vector at this position, 0 means padding\n",
    "    \"\"\"\n",
    "\n",
    "    batch_size = len(data)\n",
    "    features, labels = zip(*data)\n",
    "\n",
    "    # Stack and pad features and masks (convert 2D to 3D tensors, i.e. add batch dimension)\n",
    "    lengths = [X.shape[0] for X in features]  # original sequence length for each time series\n",
    "    if max_len is None:\n",
    "        max_len = max(lengths)\n",
    "\n",
    "    X = torch.zeros(batch_size, max_len, features[0].shape[-1])  # (batch_size, padded_length, feat_dim)\n",
    "    for i in range(batch_size):\n",
    "        end = min(lengths[i], max_len)\n",
    "        # X[i, :end, :] = features[i][:end, :]\n",
    "        # keep the most recent time steps\n",
    "        # previous implementation was truncating the last few time steps if goes beyond max_len\n",
    "        X[i, :end, :] = features[i][-end:, :] \n",
    "\n",
    "    targets = torch.stack(labels, dim=0)  # (batch_size, num_labels)\n",
    "\n",
    "    padding_masks = padding_mask(torch.tensor(lengths, dtype=torch.int16),\n",
    "                                 max_len=max_len)  # (batch_size, padded_length) boolean tensor, \"1\" means keep\n",
    "\n",
    "    return X, targets, padding_masks\n",
    "\n",
    "\n",
    "def padding_mask(lengths, max_len=None):\n",
    "    \"\"\"\n",
    "    Used to mask padded positions: creates a (batch_size, max_len) boolean mask from a tensor of sequence lengths,\n",
    "    where 1 means keep element at this position (time step)\n",
    "    \"\"\"\n",
    "    batch_size = lengths.numel()\n",
    "    max_len = max_len or lengths.max_val()  # trick works because of overloading of 'or' operator for non-boolean types\n",
    "    \n",
    "    mask = (torch.arange(0, max_len, device=lengths.device)\n",
    "            .type_as(lengths)\n",
    "            .repeat(batch_size, 1)\n",
    "            .lt(lengths.unsqueeze(1)))\n",
    "    return mask"
   ]
  },
  {
   "cell_type": "markdown",
   "metadata": {},
   "source": [
    "### Create"
   ]
  },
  {
   "cell_type": "code",
   "execution_count": 64,
   "metadata": {},
   "outputs": [],
   "source": [
    "train_dataset = OASIS_TemporalDataset(features, train=True, seed=SEED)\n",
    "test_dataset = OASIS_TemporalDataset(features, train=False, seed=SEED)"
   ]
  },
  {
   "cell_type": "code",
   "execution_count": 65,
   "metadata": {},
   "outputs": [],
   "source": [
    "batch_size = 8\n",
    "seq_len = 3\n",
    "\n",
    "train_dataloader = DataLoader(\n",
    "    train_dataset,\n",
    "    batch_size=batch_size,\n",
    "    shuffle=True,\n",
    "    # num_workers=args.num_workers,\n",
    "    # drop_last=drop_last,\n",
    "    collate_fn=lambda x: collate_fn(x, max_len=seq_len)\n",
    ")\n",
    "\n",
    "test_dataloader = DataLoader(\n",
    "    test_dataset,\n",
    "    batch_size=batch_size,\n",
    "    shuffle=False, # shuffling not necessary for test\n",
    "    # num_workers=args.num_workers,\n",
    "    # drop_last=drop_last,\n",
    "    collate_fn=lambda x: collate_fn(x, max_len=seq_len)\n",
    ")"
   ]
  },
  {
   "cell_type": "markdown",
   "metadata": {},
   "source": [
    "## Sequence length"
   ]
  },
  {
   "cell_type": "code",
   "execution_count": 15,
   "metadata": {},
   "outputs": [],
   "source": [
    "import pandas as pd\n",
    "import seaborn as sns\n",
    "\n",
    "lengths = [ item[0].shape[0] for item in train_dataset]\n",
    "df = pd.DataFrame(lengths, columns=['lengths'])"
   ]
  },
  {
   "cell_type": "markdown",
   "metadata": {},
   "source": [
    "### Count plot"
   ]
  },
  {
   "cell_type": "code",
   "execution_count": 16,
   "metadata": {},
   "outputs": [
    {
     "data": {
      "image/png": "[encoded data removed]",
      "text/plain": [
       "<Figure size 500x500 with 1 Axes>"
      ]
     },
     "metadata": {},
     "output_type": "display_data"
    }
   ],
   "source": [
    "counts = df.value_counts(normalize=True) * 100\n",
    "counts = counts.rename('percent').reset_index()\n",
    "\n",
    "g = sns.catplot(x='lengths',y='percent',kind='bar',data=counts)\n",
    "# g.ax.set_ylim(0,100)\n",
    "\n",
    "for p in g.ax.patches:\n",
    "    txt = str(p.get_height().round(2)) + '%'\n",
    "    txt_x = p.get_x() \n",
    "    txt_y = p.get_height()\n",
    "    g.ax.text(txt_x,txt_y+1,txt)"
   ]
  },
  {
   "cell_type": "markdown",
   "metadata": {},
   "source": [
    "### Distribution plot"
   ]
  },
  {
   "cell_type": "code",
   "execution_count": 17,
   "metadata": {},
   "outputs": [
    {
     "data": {
      "image/png": "[encoded data removed]",
      "text/plain": [
       "<Figure size 640x480 with 1 Axes>"
      ]
     },
     "metadata": {},
     "output_type": "display_data"
    }
   ],
   "source": [
    "from scipy.stats import norm\n",
    "\n",
    "# Generate some data for this \n",
    "# demonstration.\n",
    "data = np.array(lengths)\n",
    "\n",
    "# Fit a normal distribution to\n",
    "# the data:\n",
    "# mean and standard deviation\n",
    "mu, std = norm.fit(data) \n",
    "\n",
    "# Plot the histogram.\n",
    "plt.hist(data, bins=4, density=True, alpha=0.6, color='b')\n",
    "\n",
    "# Plot the PDF.\n",
    "xmin, xmax = plt.xlim()\n",
    "x = np.linspace(xmin, xmax, 100)\n",
    "p = norm.pdf(x, mu, std)\n",
    "\n",
    "plt.plot(x, p, 'k', linewidth=2)\n",
    "title = \"Mean {:.2f}, Std {:.2f}\".format(mu, std)\n",
    "plt.title(title)\n",
    "\n",
    "plt.show()"
   ]
  },
  {
   "cell_type": "markdown",
   "metadata": {},
   "source": [
    "## Train"
   ]
  },
  {
   "cell_type": "code",
   "execution_count": 74,
   "metadata": {},
   "outputs": [
    {
     "name": "stdout",
     "output_type": "stream",
     "text": [
      "Epoch 1, train loss 0.6826 val_loss 0.6846 acc 0.5195 f1 0 auc 0.6764\n",
      "Epoch 3, train loss 0.5353 val_loss 0.6515 acc 0.5455 f1 0.1026 auc 0.9473\n",
      "Epoch 5, train loss 0.3741 val_loss 0.6798 acc 0.8831 f1 0.8889 auc 0.9203\n",
      "Epoch 7, train loss 0.3494 val_loss 0.6642 acc 0.8442 f1 0.8571 auc 0.8838\n",
      "Epoch 9, train loss 0.3242 val_loss 0.6444 acc 0.8701 f1 0.875 auc 0.95\n",
      "Epoch 00010: reducing learning rate of group 0 to 1.0000e-04.\n",
      "Epoch 11, train loss 0.2652 val_loss 0.7621 acc 0.8961 f1 0.9024 auc 0.9736\n",
      "Epoch 13, train loss 0.2599 val_loss 0.771 acc 0.8961 f1 0.9024 auc 0.9716\n",
      "Epoch 00014: reducing learning rate of group 0 to 1.0000e-05.\n",
      "Epoch 15, train loss 0.2476 val_loss 0.7897 acc 0.8961 f1 0.9024 auc 0.9885\n",
      "Early stopping\n"
     ]
    }
   ],
   "source": [
    "model = LstmModel(num_layers=3, dropout=0.1)\n",
    "model.float().to(device)\n",
    "optimizer = torch.optim.Adam(model.parameters(), lr=1e-3)\n",
    "criterion = torch.nn.BCEWithLogitsLoss()\n",
    "early_stopping = EarlyStopping(patience=10, verbose=False, dirpath=result_dir)\n",
    "\n",
    "scheduler = ReduceLROnPlateau(\n",
    "    optimizer, 'min', \n",
    "    patience=3, min_lr=1e-6, verbose=True\n",
    ")\n",
    "n_epochs = 100\n",
    "\n",
    "for epoch in range(n_epochs):\n",
    "    total_loss = []\n",
    "    total_probs, total_preds, total_labels = [], [], []\n",
    "    model.train()\n",
    "    # training batch_x, label, padding_masks\n",
    "    for (x_train, y_train, padding_masks) in train_dataloader:\n",
    "        x_train, y_train = x_train.float().to(device), y_train.float().to(device)\n",
    "        outputs = model(x_train)\n",
    "        loss = criterion(outputs.squeeze(), y_train)\n",
    "        optimizer.zero_grad()\n",
    "        \n",
    "        total_loss.append(loss.item())\n",
    "        loss.backward()\n",
    "        optimizer.step()\n",
    "        \n",
    "        probs = torch.sigmoid(outputs)\n",
    "        # preds = torch.argmax(probs, dim=1)\n",
    "        preds = probs[:, -1].round()\n",
    "\n",
    "        # comvert to numpy\n",
    "        probs = probs.detach().cpu().numpy()\n",
    "        preds = preds.detach().cpu().numpy()\n",
    "\n",
    "        # append to list\n",
    "        total_labels.extend(y_train.detach().cpu().numpy())\n",
    "        total_probs.extend(probs[:, -1])\n",
    "        total_preds.extend(preds)\n",
    "        \n",
    "    train_loss = np.mean(total_loss)\n",
    "    \n",
    "    # validation\n",
    "    model.eval()\n",
    "    total_loss = []\n",
    "    \n",
    "    with torch.no_grad():\n",
    "        for (x_test, y_test, padding_masks) in test_dataloader:\n",
    "            x_test, y_test = x_test.float().to(device), y_test.float().to(device)\n",
    "            outputs = model(x_test)\n",
    "            loss = criterion(outputs.squeeze(), y_test)\n",
    "            total_loss.append(loss.item())\n",
    "        \n",
    "    val_loss = np.mean(total_loss)    \n",
    "        \n",
    "    if epoch % 2 == 0:\n",
    "        # calculate metrics\n",
    "        acc = accuracy_score(total_labels, total_preds)\n",
    "        auc = roc_auc_score(total_labels, total_probs)\n",
    "        f1 = f1_score(total_labels, total_preds)\n",
    "        \n",
    "        # print metrics\n",
    "        print(\n",
    "            f'Epoch {epoch+1}: train loss {train_loss:0.4g} val loss {val_loss:0.4g} acc {acc:0.4g} f1 {f1:0.4g} auc {auc:0.4g}'\n",
    "        )\n",
    "        \n",
    "    # early stopping\n",
    "    early_stopping(val_loss, model)\n",
    "    if early_stopping.early_stop:\n",
    "        print(\"Early stopping\")\n",
    "        break\n",
    "    scheduler.step(val_loss)"
   ]
  },
  {
   "cell_type": "code",
   "execution_count": 75,
   "metadata": {},
   "outputs": [
    {
     "name": "stdout",
     "output_type": "stream",
     "text": [
      "f1 0.75 acc 0.7391 auc 0.7692\n"
     ]
    }
   ],
   "source": [
    "model.eval()\n",
    "total_loss = []\n",
    "total_probs, total_preds, total_labels = [], [], []\n",
    "\n",
    "with torch.no_grad():\n",
    "    for (x_test, y_test, padding_masks) in test_dataloader:\n",
    "        x_test, y_test = x_test.float().to(device), y_test.float().to(device)\n",
    "        outputs = model(x_test)\n",
    "        loss = criterion(outputs.squeeze(), y_test)\n",
    "        total_loss.append(loss.item())\n",
    "        \n",
    "        probs = torch.sigmoid(outputs)\n",
    "        preds = probs[:, -1].round() # torch.argmax(probs, dim=1)\n",
    "\n",
    "        # comvert to numpy\n",
    "        probs = probs.detach().cpu().numpy()\n",
    "        preds = preds.detach().cpu().numpy()\n",
    "\n",
    "        # append to list\n",
    "        total_labels.extend(y_test.detach().cpu().numpy())\n",
    "        total_probs.extend(probs[:, -1])\n",
    "        total_preds.extend(preds)\n",
    "    \n",
    "test_loss = np.mean(total_loss)     \n",
    "acc = accuracy_score(total_labels, total_preds)\n",
    "auc = roc_auc_score(total_labels, total_probs)\n",
    "f1 = f1_score(total_labels, total_preds)\n",
    "\n",
    "# print metrics\n",
    "print(\n",
    "    f'f1 {f1:0.4g} acc {acc:0.4g} auc {auc:0.4g}'\n",
    ")"
   ]
  }
 ],
 "metadata": {
  "kernelspec": {
   "display_name": "Python 3",
   "language": "python",
   "name": "python3"
  },
  "language_info": {
   "codemirror_mode": {
    "name": "ipython",
    "version": 3
   },
   "file_extension": ".py",
   "mimetype": "text/x-python",
   "name": "python",
   "nbconvert_exporter": "python",
   "pygments_lexer": "ipython3",
   "version": "3.10.11"
  }
 },
 "nbformat": 4,
 "nbformat_minor": 2
}
