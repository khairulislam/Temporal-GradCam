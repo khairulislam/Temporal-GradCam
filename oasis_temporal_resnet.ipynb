{
 "cells": [
  {
   "cell_type": "markdown",
   "metadata": {},
   "source": [
    "# Imports"
   ]
  },
  {
   "cell_type": "code",
   "execution_count": 1,
   "metadata": {},
   "outputs": [],
   "source": [
    "import os, torch, random\n",
    "import SimpleITK\n",
    "import numpy as np\n",
    "import matplotlib.pyplot as plt \n",
    "from torchvision import transforms, models\n",
    "from torch.utils.data import DataLoader\n",
    "import re\n",
    "from sklearn.metrics import accuracy_score, f1_score, roc_auc_score"
   ]
  },
  {
   "cell_type": "code",
   "execution_count": 2,
   "metadata": {},
   "outputs": [],
   "source": [
    "SEED = 2024\n",
    "\n",
    "def seed_everything(seed):\n",
    "    random.seed(seed)\n",
    "    torch.manual_seed(seed)\n",
    "    np.random.seed(seed)\n",
    "\n",
    "seed_everything(SEED)"
   ]
  },
  {
   "cell_type": "markdown",
   "metadata": {},
   "source": [
    "## GPU"
   ]
  },
  {
   "cell_type": "code",
   "execution_count": 3,
   "metadata": {},
   "outputs": [
    {
     "name": "stdout",
     "output_type": "stream",
     "text": [
      "Using cuda device\n"
     ]
    }
   ],
   "source": [
    "# Get cpu, gpu or mps device for training.\n",
    "device = (\n",
    "    \"cuda\"\n",
    "    if torch.cuda.is_available()\n",
    "    else \"mps\"\n",
    "    if torch.backends.mps.is_available()\n",
    "    else \"cpu\"\n",
    ")\n",
    "print(f\"Using {device} device\")"
   ]
  },
  {
   "cell_type": "markdown",
   "metadata": {},
   "source": [
    "# Dataset"
   ]
  },
  {
   "cell_type": "code",
   "execution_count": 4,
   "metadata": {},
   "outputs": [],
   "source": [
    "data_transforms = {\n",
    "    'train': transforms.Compose([\n",
    "        # Converts a PIL Image or numpy.ndarray (H x W x C) in the range [0, 255] \n",
    "        # to a torch.FloatTensor of shape (C x H x W) in the range [0.0, 1.0]\n",
    "        transforms.ToTensor(), \n",
    "        # transforms.RandomResizedCrop(224),\n",
    "        # transforms.RandomHorizontalFlip(),\n",
    "    ]),\n",
    "    'test': transforms.Compose([\n",
    "        transforms.ToTensor(), # PIL Image or numpy.ndarray (H x W x C)\n",
    "        # transforms.Resize(256),\n",
    "        # transforms.CenterCrop(224)\n",
    "    ]),\n",
    "}"
   ]
  },
  {
   "cell_type": "code",
   "execution_count": 123,
   "metadata": {},
   "outputs": [
    {
     "name": "stdout",
     "output_type": "stream",
     "text": [
      "Total 100, disease 50, healthy 50.\n"
     ]
    }
   ],
   "source": [
    "from OASIS_2D.dataset import OASIS_Dataset\n",
    "\n",
    "total_dataset = OASIS_Dataset(flag='all', seed=SEED)\n",
    "\n",
    "batch_size = 8\n",
    "total_dataloader = DataLoader(\n",
    "    total_dataset, batch_size=batch_size\n",
    ")"
   ]
  },
  {
   "cell_type": "markdown",
   "metadata": {},
   "source": [
    "# Extract features "
   ]
  },
  {
   "cell_type": "markdown",
   "metadata": {},
   "source": [
    "## Model"
   ]
  },
  {
   "cell_type": "code",
   "execution_count": 125,
   "metadata": {},
   "outputs": [],
   "source": [
    "# https://pytorch.org/tutorials/beginner/transfer_learning_tutorial.html\n",
    "model = models.resnet18(weights='DEFAULT')\n",
    "\n",
    "# Here, we need to freeze all the network except the final layer. \n",
    "# We need to set requires_grad = False to freeze the parameters \n",
    "# so that the gradients are not computed in backward().\n",
    "for param in model.parameters():\n",
    "    param.requires_grad = False\n",
    "    \n",
    "# Parameters of newly constructed modules have requires_grad=True by default\n",
    "num_ftrs = model.fc.in_features\n",
    "# Here the size of each output sample is set to 2.\n",
    "# Alternatively, it can be generalized to ``nn.Linear(num_ftrs, len(class_names))``.\n",
    "model.fc = torch.nn.Linear(num_ftrs, 2)\n",
    "\n",
    "model.to(device)"
   ]
  },
  {
   "cell_type": "markdown",
   "metadata": {},
   "source": [
    "## Extractor"
   ]
  },
  {
   "cell_type": "code",
   "execution_count": 126,
   "metadata": {},
   "outputs": [],
   "source": [
    "from torchvision.models.feature_extraction import create_feature_extractor\n",
    "\n",
    "return_nodes = {\n",
    "    \"avgpool\": \"avgpool\",\n",
    "    \"fc\": \"fc\"\n",
    "}\n",
    "extractor = create_feature_extractor(\n",
    "    model, return_nodes=return_nodes\n",
    ")"
   ]
  },
  {
   "cell_type": "code",
   "execution_count": 127,
   "metadata": {},
   "outputs": [],
   "source": [
    "all_outputs = []\n",
    "for inputs, _ in total_dataloader:\n",
    "    inputs = inputs.to(device)\n",
    "    outputs = extractor(inputs)\n",
    "    \n",
    "    # only take the output before the final linear layer\n",
    "    # squeeze to remove pooled dimension (512, 1, 1) -> (512)\n",
    "    all_outputs.append(outputs['avgpool'].squeeze())\n",
    "    \n",
    "all_outputs = torch.vstack(all_outputs)\n",
    "all_outputs = all_outputs.detach().cpu().numpy()"
   ]
  },
  {
   "cell_type": "markdown",
   "metadata": {},
   "source": [
    "## Save"
   ]
  },
  {
   "cell_type": "code",
   "execution_count": 21,
   "metadata": {},
   "outputs": [],
   "source": [
    "features = {\n",
    "    'patient_id': total_dataset.patient_ids,\n",
    "    'day': total_dataset.days,\n",
    "    'label': total_dataset.labels,\n",
    "    'feature': all_outputs\n",
    "}"
   ]
  },
  {
   "cell_type": "code",
   "execution_count": 128,
   "metadata": {},
   "outputs": [],
   "source": [
    "result_dir = os.path.join('OASIS_2D', 'scratch', model._get_name())\n",
    "\n",
    "if not os.path.exists(result_dir):\n",
    "    os.makedirs(result_dir, exist_ok=True)\n",
    "    \n",
    "torch.save(features, os.path.join(result_dir, 'features.pt'))"
   ]
  },
  {
   "cell_type": "markdown",
   "metadata": {},
   "source": [
    "# Train"
   ]
  },
  {
   "cell_type": "code",
   "execution_count": 71,
   "metadata": {},
   "outputs": [],
   "source": [
    "features = torch.load(os.path.join(result_dir, 'features.pt'))"
   ]
  },
  {
   "cell_type": "markdown",
   "metadata": {},
   "source": [
    "# Dataset"
   ]
  },
  {
   "cell_type": "code",
   "execution_count": 134,
   "metadata": {},
   "outputs": [],
   "source": [
    "from torch.utils.data import Dataset\n",
    "from sklearn.model_selection import train_test_split\n",
    "\n",
    "class OASIS_TemporalDataset(Dataset):\n",
    "    def __init__(self, features, train, seed=7):\n",
    "        self.train = train\n",
    "        self.seed = seed\n",
    "        self.selected_patients = self.split(features)\n",
    "        \n",
    "        id_day_map = {}\n",
    "        id_day_feature_map = {}\n",
    "\n",
    "        for patient_id, day, feature, label in zip(\n",
    "            features['patient_id'], features['day'], \n",
    "            features['feature'], features['label']\n",
    "        ):\n",
    "            if patient_id not in self.selected_patients: continue\n",
    "            \n",
    "            if patient_id not in id_day_map:\n",
    "                id_day_map[patient_id] = [day]\n",
    "            else:    \n",
    "                id_day_map[patient_id].append(day)\n",
    "                \n",
    "            id_day_feature_map[(patient_id, day)] = (feature, label)\n",
    "            \n",
    "        self.id_day_map = id_day_map\n",
    "        self.id_day_feature_map = id_day_feature_map\n",
    "        self.id_days = list(id_day_feature_map.keys())\n",
    "        \n",
    "    def split(self, features):\n",
    "        patient_ids, labels = [], []\n",
    "        for i in range(len(features['patient_id'])):\n",
    "            patient_id = features['patient_id'][i]\n",
    "        \n",
    "            if patient_id in patient_ids: continue\n",
    "            \n",
    "            patient_ids.append(patient_id)\n",
    "            # assuming same patient id and day can't be in both healthy and disease dir\n",
    "            labels.append(features['label'][i])\n",
    "        \n",
    "        train_ids, test_ids = train_test_split(\n",
    "            patient_ids, test_size=0.2, shuffle=True, \n",
    "            random_state=self.seed, stratify=labels\n",
    "        )\n",
    "        \n",
    "        if self.train: return train_ids\n",
    "        else: return test_ids\n",
    "        \n",
    "    def __len__(self):\n",
    "        return len(self.id_days)\n",
    "    \n",
    "    def __getitem__(self, idx):\n",
    "        id, current_day = self.id_days[idx]\n",
    "        \n",
    "        # sort the current and previous days in ascending order\n",
    "        prev_days = sorted([day for day in self.id_day_map[id] if day <= current_day])\n",
    "        \n",
    "        # get feature for each previous day\n",
    "        features = [self.id_day_feature_map[(id, d)][0] for d in prev_days]    \n",
    "        \n",
    "        # predict the label for the current day\n",
    "        label = self.id_day_feature_map[(id, current_day)][1]\n",
    "        \n",
    "        return torch.tensor(features[-1]), torch.tensor(label)"
   ]
  },
  {
   "cell_type": "code",
   "execution_count": 135,
   "metadata": {},
   "outputs": [],
   "source": [
    "train_dataset = OASIS_TemporalDataset(features, train=True, seed=SEED)\n",
    "test_dataset = OASIS_TemporalDataset(features, train=False, seed=SEED)"
   ]
  },
  {
   "cell_type": "code",
   "execution_count": 35,
   "metadata": {},
   "outputs": [
    {
     "name": "stdout",
     "output_type": "stream",
     "text": [
      "Extracted feature has dimension 512\n"
     ]
    }
   ],
   "source": [
    "dimension = len(features['feature'][0])\n",
    "print(f'Extracted feature has dimension {dimension}')"
   ]
  },
  {
   "cell_type": "markdown",
   "metadata": {},
   "source": [
    "# Model"
   ]
  },
  {
   "cell_type": "code",
   "execution_count": 136,
   "metadata": {},
   "outputs": [],
   "source": [
    "class LstmModel(torch.nn.Module):\n",
    "    def __init__(\n",
    "        self, input_size=512, num_layers=1, \n",
    "        hidden_size=64, output_size=2, dropout=0.1\n",
    "    ):\n",
    "        super(LstmModel, self).__init__()\n",
    "        # input shape is (batch, seq_len, features)\n",
    "        self.lstm = torch.nn.LSTM(\n",
    "            input_size=input_size, \n",
    "            hidden_size= hidden_size, \n",
    "            num_layers=num_layers,\n",
    "            batch_first=True\n",
    "        )\n",
    "        self.dropout = torch.nn.Dropout(dropout)\n",
    "        self.fc = torch.nn.Linear(hidden_size, output_size)\n",
    "        \n",
    "    def forward(self, x):\n",
    "        # The output of nn.LSTM() is a tuple. The first \n",
    "        # element is the generated hidden states, \n",
    "        # one for each time step of the input. The \n",
    "        # second element is the LSTM cell’s memory \n",
    "        # and hidden states, which is not used here.\n",
    "        # output (batch x hidden_size), (hc, cn)\n",
    "        x, _ = self.lstm(x) \n",
    "        \n",
    "        # The output of hidden states is further processed by a \n",
    "        # fully-connected layer to produce a single regression result. \n",
    "        # Since the output from LSTM is one per each input time step, \n",
    "        # you can chooce to pick only the last timestep’s output\n",
    "        # x = self.fc(x[:, -1, :])\n",
    "        x = self.fc(self.dropout(x))\n",
    "        \n",
    "        return x"
   ]
  },
  {
   "cell_type": "code",
   "execution_count": 90,
   "metadata": {},
   "outputs": [],
   "source": [
    "from torch.optim.lr_scheduler import ReduceLROnPlateau\n",
    "from utils.callbacks import EarlyStopping\n",
    "from sklearn.metrics import roc_auc_score, f1_score, accuracy_score"
   ]
  },
  {
   "cell_type": "code",
   "execution_count": 141,
   "metadata": {},
   "outputs": [
    {
     "name": "stdout",
     "output_type": "stream",
     "text": [
      "Epoch 1, loss 0.7253 val_loss 0.7938 f1 0.5135 acc 0.5325 auc 0.5162\n",
      "EarlyStopping counter: 1 out of 10\n",
      "EarlyStopping counter: 2 out of 10\n",
      "EarlyStopping counter: 3 out of 10\n",
      "EarlyStopping counter: 4 out of 10\n",
      "Epoch 00007: reducing learning rate of group 0 to 1.0000e-04.\n",
      "EarlyStopping counter: 5 out of 10\n",
      "EarlyStopping counter: 6 out of 10\n",
      "EarlyStopping counter: 7 out of 10\n",
      "Epoch 11, loss 0.6318 val_loss 0.7593 f1 0.6769 acc 0.7273 auc 0.8014\n",
      "EarlyStopping counter: 8 out of 10\n",
      "Epoch 00011: reducing learning rate of group 0 to 1.0000e-05.\n",
      "EarlyStopping counter: 9 out of 10\n",
      "EarlyStopping counter: 10 out of 10\n",
      "Early stopping\n"
     ]
    }
   ],
   "source": [
    "model = LstmModel()\n",
    "model.to(device)\n",
    "optimizer = torch.optim.Adam(model.parameters(), lr=1e-3)\n",
    "criterion = torch.nn.CrossEntropyLoss()\n",
    "early_stopping = EarlyStopping(patience=10, verbose=False, save_dir=result_dir)\n",
    "\n",
    "train_dataloader = torch.utils.data.DataLoader(train_dataset, batch_size=8, shuffle=True)\n",
    "test_dataloader = torch.utils.data.DataLoader(test_dataset, batch_size=8, shuffle=False)\n",
    "\n",
    "scheduler = ReduceLROnPlateau(\n",
    "    optimizer, 'min', \n",
    "    patience=3, min_lr=1e-6, verbose=True\n",
    ")\n",
    "\n",
    "n_epochs = 100\n",
    "\n",
    "for epoch in range(n_epochs):\n",
    "    total_loss = []\n",
    "    total_probs, total_preds, total_labels = [], [], []\n",
    "    model.train()\n",
    "    # training\n",
    "    for x_train, y_train in train_dataloader:\n",
    "        x_train, y_train = x_train.to(device), y_train.to(device)\n",
    "        outputs = model(x_train)\n",
    "        loss = criterion(outputs, y_train)\n",
    "        optimizer.zero_grad()\n",
    "        \n",
    "        total_loss.append(loss.item())\n",
    "        loss.backward()\n",
    "        optimizer.step()\n",
    "        \n",
    "        probs = torch.sigmoid(outputs)\n",
    "        preds = torch.argmax(probs, dim=1)\n",
    "\n",
    "        # comvert to numpy\n",
    "        probs = probs.detach().cpu().numpy()\n",
    "        preds = preds.detach().cpu().numpy()\n",
    "\n",
    "        # append to list\n",
    "        total_labels.extend(y_train.detach().cpu().numpy())\n",
    "        total_probs.extend(probs[:, 1])\n",
    "        total_preds.extend(preds)\n",
    "        \n",
    "    train_loss = np.mean(total_loss)\n",
    "    \n",
    "    # validation\n",
    "    model.eval()\n",
    "    total_loss = []\n",
    "    \n",
    "    with torch.no_grad():\n",
    "        for x_test, y_test in test_dataloader:\n",
    "            x_test, y_test = x_test.to(device), y_test.to(device)\n",
    "            outputs = model(x_test)\n",
    "            loss = criterion(outputs, y_test)\n",
    "            total_loss.append(loss.item())\n",
    "        \n",
    "    val_loss = np.mean(total_loss)    \n",
    "        \n",
    "    if epoch % 10 == 0:\n",
    "        # calculate metrics\n",
    "        acc = accuracy_score(total_labels, total_preds)\n",
    "        auc = roc_auc_score(total_labels, total_probs)\n",
    "        f1 = f1_score(total_labels, total_preds)\n",
    "        \n",
    "        # print metrics\n",
    "        print(\n",
    "            f'Epoch {epoch+1}, loss {train_loss:0.4g} val_loss {val_loss:0.4g} f1 {f1:0.4g} acc {acc:0.4g} auc {auc:0.4g}'\n",
    "        )\n",
    "        \n",
    "    # early stopping\n",
    "    early_stopping(val_loss, model)\n",
    "    if early_stopping.early_stop:\n",
    "        print(\"Early stopping\")\n",
    "        break\n",
    "    scheduler.step(val_loss)"
   ]
  }
 ],
 "metadata": {
  "kernelspec": {
   "display_name": "Python 3",
   "language": "python",
   "name": "python3"
  },
  "language_info": {
   "codemirror_mode": {
    "name": "ipython",
    "version": 3
   },
   "file_extension": ".py",
   "mimetype": "text/x-python",
   "name": "python",
   "nbconvert_exporter": "python",
   "pygments_lexer": "ipython3",
   "version": "3.10.11"
  }
 },
 "nbformat": 4,
 "nbformat_minor": 2
}
