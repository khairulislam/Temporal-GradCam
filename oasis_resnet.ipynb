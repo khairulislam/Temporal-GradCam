{
 "cells": [
  {
   "cell_type": "markdown",
   "metadata": {},
   "source": [
    "# Imports"
   ]
  },
  {
   "cell_type": "code",
   "execution_count": 1,
   "metadata": {},
   "outputs": [
    {
     "name": "stderr",
     "output_type": "stream",
     "text": [
      "C:\\Users\\mi3se\\AppData\\Roaming\\Python\\Python310\\site-packages\\torchvision\\io\\image.py:13: UserWarning: Failed to load image Python extension: Could not find module 'C:\\Users\\mi3se\\AppData\\Roaming\\Python\\Python310\\site-packages\\torchvision\\image.pyd' (or one of its dependencies). Try using the full path with constructor syntax.\n",
      "  warn(f\"Failed to load image Python extension: {e}\")\n"
     ]
    }
   ],
   "source": [
    "import os, torch, random\n",
    "import SimpleITK\n",
    "import numpy as np\n",
    "import matplotlib.pyplot as plt \n",
    "from torchvision import transforms\n",
    "from torch.utils.data import DataLoader\n",
    "import re\n",
    "from sklearn.metrics import accuracy_score, f1_score, roc_auc_score"
   ]
  },
  {
   "cell_type": "code",
   "execution_count": 2,
   "metadata": {},
   "outputs": [],
   "source": [
    "SEED = 2024\n",
    "\n",
    "def seed_everything(seed):\n",
    "    random.seed(seed)\n",
    "    torch.manual_seed(seed)\n",
    "    np.random.seed(seed)\n",
    "\n",
    "seed_everything(SEED)"
   ]
  },
  {
   "cell_type": "markdown",
   "metadata": {},
   "source": [
    "## GPU"
   ]
  },
  {
   "cell_type": "code",
   "execution_count": 3,
   "metadata": {},
   "outputs": [
    {
     "name": "stdout",
     "output_type": "stream",
     "text": [
      "Using cpu device\n"
     ]
    }
   ],
   "source": [
    "# Get cpu, gpu or mps device for training.\n",
    "device = (\n",
    "    \"cuda\"\n",
    "    if torch.cuda.is_available()\n",
    "    else \"mps\"\n",
    "    if torch.backends.mps.is_available()\n",
    "    else \"cpu\"\n",
    ")\n",
    "print(f\"Using {device} device\")"
   ]
  },
  {
   "cell_type": "markdown",
   "metadata": {},
   "source": [
    "# Dataset"
   ]
  },
  {
   "cell_type": "code",
   "execution_count": 4,
   "metadata": {},
   "outputs": [],
   "source": [
    "data_transforms = {\n",
    "    'train': transforms.Compose([\n",
    "        # Converts a PIL Image or numpy.ndarray (H x W x C) in the range [0, 255] \n",
    "        # to a torch.FloatTensor of shape (C x H x W) in the range [0.0, 1.0]\n",
    "        transforms.ToTensor(), \n",
    "        # transforms.RandomResizedCrop(224),\n",
    "        # transforms.RandomHorizontalFlip(),\n",
    "    ]),\n",
    "    'test': transforms.Compose([\n",
    "        transforms.ToTensor(), # PIL Image or numpy.ndarray (H x W x C)\n",
    "        # transforms.Resize(256),\n",
    "        # transforms.CenterCrop(224)\n",
    "    ]),\n",
    "}"
   ]
  },
  {
   "cell_type": "code",
   "execution_count": 5,
   "metadata": {},
   "outputs": [
    {
     "name": "stdout",
     "output_type": "stream",
     "text": [
      "Total 77, disease 37, healthy 40.             Unique patients 42.\n",
      "Total 23, disease 13, healthy 10.             Unique patients 11.\n"
     ]
    }
   ],
   "source": [
    "from OASIS_2D.dataset import OASIS_Dataset\n",
    "\n",
    "train_dataset = OASIS_Dataset(train=True, seed=SEED)\n",
    "test_dataset = OASIS_Dataset(train=False, seed=SEED)\n",
    "\n",
    "batch_size = 8\n",
    "train_dataloader = DataLoader(\n",
    "    train_dataset, batch_size=batch_size, shuffle=True\n",
    ")\n",
    "\n",
    "test_dataloader = DataLoader(test_dataset, batch_size=batch_size)"
   ]
  },
  {
   "cell_type": "markdown",
   "metadata": {},
   "source": [
    "# Model"
   ]
  },
  {
   "cell_type": "code",
   "execution_count": 6,
   "metadata": {},
   "outputs": [],
   "source": [
    "from torchvision import models\n",
    "\n",
    "# https://pytorch.org/tutorials/beginner/transfer_learning_tutorial.html\n",
    "model = models.resnet18(weights='DEFAULT')\n",
    "\n",
    "# Here, we need to freeze all the network except the final layer. \n",
    "# We need to set requires_grad = False to freeze the parameters \n",
    "# so that the gradients are not computed in backward().\n",
    "for param in model.parameters():\n",
    "    param.requires_grad = False"
   ]
  },
  {
   "cell_type": "code",
   "execution_count": 7,
   "metadata": {},
   "outputs": [
    {
     "data": {
      "text/plain": [
       "ResNet(\n",
       "  (conv1): Conv2d(3, 64, kernel_size=(7, 7), stride=(2, 2), padding=(3, 3), bias=False)\n",
       "  (bn1): BatchNorm2d(64, eps=1e-05, momentum=0.1, affine=True, track_running_stats=True)\n",
       "  (relu): ReLU(inplace=True)\n",
       "  (maxpool): MaxPool2d(kernel_size=3, stride=2, padding=1, dilation=1, ceil_mode=False)\n",
       "  (layer1): Sequential(\n",
       "    (0): BasicBlock(\n",
       "      (conv1): Conv2d(64, 64, kernel_size=(3, 3), stride=(1, 1), padding=(1, 1), bias=False)\n",
       "      (bn1): BatchNorm2d(64, eps=1e-05, momentum=0.1, affine=True, track_running_stats=True)\n",
       "      (relu): ReLU(inplace=True)\n",
       "      (conv2): Conv2d(64, 64, kernel_size=(3, 3), stride=(1, 1), padding=(1, 1), bias=False)\n",
       "      (bn2): BatchNorm2d(64, eps=1e-05, momentum=0.1, affine=True, track_running_stats=True)\n",
       "    )\n",
       "    (1): BasicBlock(\n",
       "      (conv1): Conv2d(64, 64, kernel_size=(3, 3), stride=(1, 1), padding=(1, 1), bias=False)\n",
       "      (bn1): BatchNorm2d(64, eps=1e-05, momentum=0.1, affine=True, track_running_stats=True)\n",
       "      (relu): ReLU(inplace=True)\n",
       "      (conv2): Conv2d(64, 64, kernel_size=(3, 3), stride=(1, 1), padding=(1, 1), bias=False)\n",
       "      (bn2): BatchNorm2d(64, eps=1e-05, momentum=0.1, affine=True, track_running_stats=True)\n",
       "    )\n",
       "  )\n",
       "  (layer2): Sequential(\n",
       "    (0): BasicBlock(\n",
       "      (conv1): Conv2d(64, 128, kernel_size=(3, 3), stride=(2, 2), padding=(1, 1), bias=False)\n",
       "      (bn1): BatchNorm2d(128, eps=1e-05, momentum=0.1, affine=True, track_running_stats=True)\n",
       "      (relu): ReLU(inplace=True)\n",
       "      (conv2): Conv2d(128, 128, kernel_size=(3, 3), stride=(1, 1), padding=(1, 1), bias=False)\n",
       "      (bn2): BatchNorm2d(128, eps=1e-05, momentum=0.1, affine=True, track_running_stats=True)\n",
       "      (downsample): Sequential(\n",
       "        (0): Conv2d(64, 128, kernel_size=(1, 1), stride=(2, 2), bias=False)\n",
       "        (1): BatchNorm2d(128, eps=1e-05, momentum=0.1, affine=True, track_running_stats=True)\n",
       "      )\n",
       "    )\n",
       "    (1): BasicBlock(\n",
       "      (conv1): Conv2d(128, 128, kernel_size=(3, 3), stride=(1, 1), padding=(1, 1), bias=False)\n",
       "      (bn1): BatchNorm2d(128, eps=1e-05, momentum=0.1, affine=True, track_running_stats=True)\n",
       "      (relu): ReLU(inplace=True)\n",
       "      (conv2): Conv2d(128, 128, kernel_size=(3, 3), stride=(1, 1), padding=(1, 1), bias=False)\n",
       "      (bn2): BatchNorm2d(128, eps=1e-05, momentum=0.1, affine=True, track_running_stats=True)\n",
       "    )\n",
       "  )\n",
       "  (layer3): Sequential(\n",
       "    (0): BasicBlock(\n",
       "      (conv1): Conv2d(128, 256, kernel_size=(3, 3), stride=(2, 2), padding=(1, 1), bias=False)\n",
       "      (bn1): BatchNorm2d(256, eps=1e-05, momentum=0.1, affine=True, track_running_stats=True)\n",
       "      (relu): ReLU(inplace=True)\n",
       "      (conv2): Conv2d(256, 256, kernel_size=(3, 3), stride=(1, 1), padding=(1, 1), bias=False)\n",
       "      (bn2): BatchNorm2d(256, eps=1e-05, momentum=0.1, affine=True, track_running_stats=True)\n",
       "      (downsample): Sequential(\n",
       "        (0): Conv2d(128, 256, kernel_size=(1, 1), stride=(2, 2), bias=False)\n",
       "        (1): BatchNorm2d(256, eps=1e-05, momentum=0.1, affine=True, track_running_stats=True)\n",
       "      )\n",
       "    )\n",
       "    (1): BasicBlock(\n",
       "      (conv1): Conv2d(256, 256, kernel_size=(3, 3), stride=(1, 1), padding=(1, 1), bias=False)\n",
       "      (bn1): BatchNorm2d(256, eps=1e-05, momentum=0.1, affine=True, track_running_stats=True)\n",
       "      (relu): ReLU(inplace=True)\n",
       "      (conv2): Conv2d(256, 256, kernel_size=(3, 3), stride=(1, 1), padding=(1, 1), bias=False)\n",
       "      (bn2): BatchNorm2d(256, eps=1e-05, momentum=0.1, affine=True, track_running_stats=True)\n",
       "    )\n",
       "  )\n",
       "  (layer4): Sequential(\n",
       "    (0): BasicBlock(\n",
       "      (conv1): Conv2d(256, 512, kernel_size=(3, 3), stride=(2, 2), padding=(1, 1), bias=False)\n",
       "      (bn1): BatchNorm2d(512, eps=1e-05, momentum=0.1, affine=True, track_running_stats=True)\n",
       "      (relu): ReLU(inplace=True)\n",
       "      (conv2): Conv2d(512, 512, kernel_size=(3, 3), stride=(1, 1), padding=(1, 1), bias=False)\n",
       "      (bn2): BatchNorm2d(512, eps=1e-05, momentum=0.1, affine=True, track_running_stats=True)\n",
       "      (downsample): Sequential(\n",
       "        (0): Conv2d(256, 512, kernel_size=(1, 1), stride=(2, 2), bias=False)\n",
       "        (1): BatchNorm2d(512, eps=1e-05, momentum=0.1, affine=True, track_running_stats=True)\n",
       "      )\n",
       "    )\n",
       "    (1): BasicBlock(\n",
       "      (conv1): Conv2d(512, 512, kernel_size=(3, 3), stride=(1, 1), padding=(1, 1), bias=False)\n",
       "      (bn1): BatchNorm2d(512, eps=1e-05, momentum=0.1, affine=True, track_running_stats=True)\n",
       "      (relu): ReLU(inplace=True)\n",
       "      (conv2): Conv2d(512, 512, kernel_size=(3, 3), stride=(1, 1), padding=(1, 1), bias=False)\n",
       "      (bn2): BatchNorm2d(512, eps=1e-05, momentum=0.1, affine=True, track_running_stats=True)\n",
       "    )\n",
       "  )\n",
       "  (avgpool): AdaptiveAvgPool2d(output_size=(1, 1))\n",
       "  (fc): Linear(in_features=512, out_features=1000, bias=True)\n",
       ")"
      ]
     },
     "execution_count": 7,
     "metadata": {},
     "output_type": "execute_result"
    }
   ],
   "source": [
    "model"
   ]
  },
  {
   "cell_type": "code",
   "execution_count": 8,
   "metadata": {},
   "outputs": [],
   "source": [
    "# Parameters of newly constructed modules have requires_grad=True by default\n",
    "num_ftrs = model.fc.in_features\n",
    "# Here the size of each output sample is set to 2.\n",
    "# Alternatively, it can be generalized to ``nn.Linear(num_ftrs, len(class_names))``.\n",
    "model.fc = torch.nn.Linear(num_ftrs, 2)\n",
    "\n",
    "model = model.to(device)"
   ]
  },
  {
   "cell_type": "markdown",
   "metadata": {},
   "source": [
    "# Train"
   ]
  },
  {
   "cell_type": "code",
   "execution_count": 9,
   "metadata": {},
   "outputs": [
    {
     "name": "stdout",
     "output_type": "stream",
     "text": [
      "Epoch 1/25\n",
      "----------\n"
     ]
    },
    {
     "name": "stdout",
     "output_type": "stream",
     "text": [
      "Train loss: 7.2846 Acc: 0.5584\n",
      "Val loss: 1.9829 Acc: 0.6957\n",
      "Validation loss decreased (inf --> 1.982876).  Saving model ...\n",
      "\n",
      "Epoch 2/25\n",
      "----------\n",
      "Train loss: 6.2798 Acc: 0.6104\n",
      "Val loss: 1.8889 Acc: 0.4783\n",
      "Validation loss decreased (1.982876 --> 1.888869).  Saving model ...\n",
      "\n",
      "Epoch 3/25\n",
      "----------\n",
      "Train loss: 6.4414 Acc: 0.5714\n",
      "Val loss: 1.6147 Acc: 0.7826\n",
      "Validation loss decreased (1.888869 --> 1.614666).  Saving model ...\n",
      "\n",
      "Epoch 4/25\n",
      "----------\n",
      "Train loss: 5.2994 Acc: 0.6883\n",
      "Val loss: 1.5953 Acc: 0.7391\n",
      "Validation loss decreased (1.614666 --> 1.595265).  Saving model ...\n",
      "\n",
      "Epoch 5/25\n",
      "----------\n",
      "Train loss: 5.1860 Acc: 0.7662\n",
      "Val loss: 1.2093 Acc: 0.9130\n",
      "Validation loss decreased (1.595265 --> 1.209294).  Saving model ...\n",
      "\n",
      "Epoch 6/25\n",
      "----------\n",
      "Train loss: 4.1221 Acc: 0.8831\n",
      "Val loss: 1.2843 Acc: 0.7826\n",
      "EarlyStopping counter: 1 out of 10\n",
      "\n",
      "Epoch 7/25\n",
      "----------\n",
      "Train loss: 4.2544 Acc: 0.8571\n",
      "Val loss: 1.2450 Acc: 0.9565\n",
      "EarlyStopping counter: 2 out of 10\n",
      "\n",
      "Epoch 8/25\n",
      "----------\n",
      "Train loss: 4.3889 Acc: 0.8312\n",
      "Val loss: 1.2728 Acc: 0.9130\n",
      "EarlyStopping counter: 3 out of 10\n",
      "\n",
      "Epoch 9/25\n",
      "----------\n",
      "Train loss: 4.0537 Acc: 0.8442\n",
      "Val loss: 1.1869 Acc: 0.9565\n",
      "Validation loss decreased (1.209294 --> 1.186884).  Saving model ...\n",
      "\n",
      "Epoch 10/25\n",
      "----------\n",
      "Train loss: 4.0781 Acc: 0.8571\n",
      "Val loss: 1.3773 Acc: 0.7826\n",
      "EarlyStopping counter: 1 out of 10\n",
      "\n",
      "Epoch 11/25\n",
      "----------\n",
      "Train loss: 3.7518 Acc: 0.8571\n",
      "Val loss: 1.1791 Acc: 0.8261\n",
      "Validation loss decreased (1.186884 --> 1.179105).  Saving model ...\n",
      "\n",
      "Epoch 12/25\n",
      "----------\n",
      "Train loss: 3.1852 Acc: 0.8831\n",
      "Val loss: 1.1228 Acc: 1.0000\n",
      "Validation loss decreased (1.179105 --> 1.122760).  Saving model ...\n",
      "\n",
      "Epoch 13/25\n",
      "----------\n",
      "Train loss: 3.6005 Acc: 0.8831\n",
      "Val loss: 1.0862 Acc: 0.9565\n",
      "Validation loss decreased (1.122760 --> 1.086233).  Saving model ...\n",
      "\n",
      "Epoch 14/25\n",
      "----------\n",
      "Train loss: 2.9026 Acc: 0.8961\n",
      "Val loss: 1.1084 Acc: 0.8261\n",
      "EarlyStopping counter: 1 out of 10\n",
      "\n",
      "Epoch 15/25\n",
      "----------\n",
      "Train loss: 3.6001 Acc: 0.8571\n",
      "Val loss: 1.0416 Acc: 0.9565\n",
      "Validation loss decreased (1.086233 --> 1.041632).  Saving model ...\n",
      "\n",
      "Epoch 16/25\n",
      "----------\n",
      "Train loss: 3.0709 Acc: 0.9091\n",
      "Val loss: 1.0775 Acc: 0.8261\n",
      "EarlyStopping counter: 1 out of 10\n",
      "\n",
      "Epoch 17/25\n",
      "----------\n",
      "Train loss: 3.1752 Acc: 0.8961\n",
      "Val loss: 1.0462 Acc: 0.9565\n",
      "EarlyStopping counter: 2 out of 10\n",
      "\n",
      "Epoch 18/25\n",
      "----------\n",
      "Train loss: 2.7711 Acc: 0.9091\n",
      "Val loss: 1.0347 Acc: 0.8696\n",
      "Validation loss decreased (1.041632 --> 1.034652).  Saving model ...\n",
      "\n",
      "Epoch 19/25\n",
      "----------\n",
      "Train loss: 2.2448 Acc: 0.9481\n",
      "Val loss: 1.0456 Acc: 0.8261\n",
      "EarlyStopping counter: 1 out of 10\n",
      "\n",
      "Epoch 20/25\n",
      "----------\n",
      "Train loss: 2.6543 Acc: 0.9221\n",
      "Val loss: 1.0005 Acc: 0.9130\n",
      "Validation loss decreased (1.034652 --> 1.000482).  Saving model ...\n",
      "\n",
      "Epoch 21/25\n",
      "----------\n",
      "Train loss: 1.9271 Acc: 0.9870\n",
      "Val loss: 0.9813 Acc: 0.9130\n",
      "Validation loss decreased (1.000482 --> 0.981341).  Saving model ...\n",
      "\n",
      "Epoch 22/25\n",
      "----------\n",
      "Train loss: 3.0296 Acc: 0.9221\n",
      "Val loss: 1.0229 Acc: 0.8261\n",
      "EarlyStopping counter: 1 out of 10\n",
      "\n",
      "Epoch 23/25\n",
      "----------\n",
      "Train loss: 2.6884 Acc: 0.9351\n",
      "Val loss: 0.9562 Acc: 0.9565\n",
      "Validation loss decreased (0.981341 --> 0.956244).  Saving model ...\n",
      "\n",
      "Epoch 24/25\n",
      "----------\n",
      "Train loss: 2.2681 Acc: 0.9351\n",
      "Val loss: 0.9730 Acc: 0.8261\n",
      "EarlyStopping counter: 1 out of 10\n",
      "\n",
      "Epoch 25/25\n",
      "----------\n",
      "Train loss: 2.8819 Acc: 0.9221\n",
      "Val loss: 1.0199 Acc: 0.8261\n",
      "EarlyStopping counter: 2 out of 10\n",
      "\n",
      "Training complete in 0m 4s\n",
      "Best val loss: 0.956244\n",
      "Loading the best model from OASIS_2D\\results\\ResNet18\\best_model_params.pt\n"
     ]
    }
   ],
   "source": [
    "from OASIS_2D.oasis import Experiment\n",
    "\n",
    "result_dir = os.path.join('OASIS_2D', 'scratch', model._get_name())\n",
    "# result_dir = os.path.join('OASIS_2D', 'results', 'ResNet18')\n",
    "exp = Experiment(result_dir=result_dir, device=device)\n",
    "\n",
    "train_history = exp.train(\n",
    "    model, train_dataloader=train_dataloader, \n",
    "    val_dataloader=test_dataloader,\n",
    "    epochs=25, learning_rate=1e-3\n",
    ")"
   ]
  },
  {
   "cell_type": "code",
   "execution_count": 10,
   "metadata": {},
   "outputs": [],
   "source": [
    "import matplotlib.pyplot as plt\n",
    "%matplotlib inline"
   ]
  },
  {
   "cell_type": "code",
   "execution_count": 16,
   "metadata": {},
   "outputs": [
    {
     "data": {
      "image/png": "[encoded data removed]",
      "text/plain": [
       "<Figure size 576x360 with 1 Axes>"
      ]
     },
     "metadata": {
      "needs_background": "light"
     },
     "output_type": "display_data"
    }
   ],
   "source": [
    "plt.figure(figsize=(8, 5))\n",
    "plt.plot(train_history['epoch'], train_history['train_loss'], label='Train loss')\n",
    "plt.plot(train_history['epoch'], train_history['val_loss'], label='Val loss')\n",
    "plt.xlabel('Train Epochs')\n",
    "plt.ylabel('Cross Entropy Loss')\n",
    "plt.legend()\n",
    "plt.savefig(os.path.join(result_dir, 'train_history.jpg'), dpi=200)\n",
    "plt.show()"
   ]
  },
  {
   "cell_type": "markdown",
   "metadata": {},
   "source": [
    "# Test"
   ]
  },
  {
   "cell_type": "code",
   "execution_count": 12,
   "metadata": {},
   "outputs": [
    {
     "name": "stdout",
     "output_type": "stream",
     "text": [
      "Loss: 1.5833, Accuracy 1.0000, F1 1.0000, AUC 1.0000.\n",
      "Loss: 0.9562, Accuracy 0.9565, F1 0.9630, AUC 0.9615.\n"
     ]
    }
   ],
   "source": [
    "print('Evaluating train data')\n",
    "train_result = exp.test(model, train_dataloader)\n",
    "\n",
    "print('Evaluating test data')\n",
    "test_result = exp.test(model, test_dataloader)"
   ]
  },
  {
   "cell_type": "code",
   "execution_count": 13,
   "metadata": {},
   "outputs": [],
   "source": [
    "import json\n",
    "\n",
    "with open(os.path.join(result_dir, 'train.json'), 'w') as output_file:\n",
    "    json.dump(train_result, output_file, indent=4)"
   ]
  },
  {
   "cell_type": "code",
   "execution_count": 14,
   "metadata": {},
   "outputs": [],
   "source": [
    "with open(os.path.join(result_dir, 'test.json'), 'w') as output_file:\n",
    "    json.dump(test_result, output_file, indent=4)"
   ]
  }
 ],
 "metadata": {
  "kernelspec": {
   "display_name": "Python 3",
   "language": "python",
   "name": "python3"
  },
  "language_info": {
   "codemirror_mode": {
    "name": "ipython",
    "version": 3
   },
   "file_extension": ".py",
   "mimetype": "text/x-python",
   "name": "python",
   "nbconvert_exporter": "python",
   "pygments_lexer": "ipython3",
   "version": "3.10.11"
  }
 },
 "nbformat": 4,
 "nbformat_minor": 2
}
