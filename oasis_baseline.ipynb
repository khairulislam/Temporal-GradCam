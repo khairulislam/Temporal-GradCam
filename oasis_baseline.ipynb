{
 "cells": [
  {
   "cell_type": "markdown",
   "metadata": {},
   "source": [
    "# Imports"
   ]
  },
  {
   "cell_type": "code",
   "execution_count": 1,
   "metadata": {},
   "outputs": [],
   "source": [
    "import os, torch, random\n",
    "import SimpleITK\n",
    "import numpy as np\n",
    "import matplotlib.pyplot as plt \n",
    "from torchvision import transforms\n",
    "from torch.utils.data import DataLoader\n",
    "import re\n",
    "from sklearn.metrics import accuracy_score, f1_score, roc_auc_score"
   ]
  },
  {
   "cell_type": "code",
   "execution_count": 2,
   "metadata": {},
   "outputs": [],
   "source": [
    "SEED = 2024\n",
    "\n",
    "def seed_everything(seed):\n",
    "    random.seed(seed)\n",
    "    torch.manual_seed(seed)\n",
    "    np.random.seed(seed)\n",
    "\n",
    "seed_everything(SEED)"
   ]
  },
  {
   "cell_type": "markdown",
   "metadata": {},
   "source": [
    "## GPU"
   ]
  },
  {
   "cell_type": "code",
   "execution_count": 3,
   "metadata": {},
   "outputs": [
    {
     "name": "stdout",
     "output_type": "stream",
     "text": [
      "Using cuda device\n"
     ]
    }
   ],
   "source": [
    "# Get cpu, gpu or mps device for training.\n",
    "device = (\n",
    "    \"cuda\"\n",
    "    if torch.cuda.is_available()\n",
    "    else \"mps\"\n",
    "    if torch.backends.mps.is_available()\n",
    "    else \"cpu\"\n",
    ")\n",
    "print(f\"Using {device} device\")"
   ]
  },
  {
   "cell_type": "markdown",
   "metadata": {},
   "source": [
    "# Dataset"
   ]
  },
  {
   "cell_type": "code",
   "execution_count": 4,
   "metadata": {},
   "outputs": [],
   "source": [
    "data_transforms = {\n",
    "    'train': transforms.Compose([\n",
    "        # Converts a PIL Image or numpy.ndarray (H x W x C) in the range [0, 255] \n",
    "        # to a torch.FloatTensor of shape (C x H x W) in the range [0.0, 1.0]\n",
    "        transforms.ToTensor(), \n",
    "        # transforms.RandomResizedCrop(224),\n",
    "        # transforms.RandomHorizontalFlip(),\n",
    "    ]),\n",
    "    'test': transforms.Compose([\n",
    "        transforms.ToTensor(), # PIL Image or numpy.ndarray (H x W x C)\n",
    "        # transforms.Resize(256),\n",
    "        # transforms.CenterCrop(224)\n",
    "    ]),\n",
    "}"
   ]
  },
  {
   "cell_type": "code",
   "execution_count": 5,
   "metadata": {},
   "outputs": [
    {
     "name": "stdout",
     "output_type": "stream",
     "text": [
      "Total 77, disease 37, healthy 40.             Unique patients 42.\n",
      "Total 23, disease 13, healthy 10.             Unique patients 11.\n"
     ]
    }
   ],
   "source": [
    "from OASIS_2D.dataset import OASIS_Dataset\n",
    "\n",
    "train_dataset = OASIS_Dataset(train=True, seed=SEED)\n",
    "test_dataset = OASIS_Dataset(train=False, seed=SEED)\n",
    "\n",
    "batch_size = 8\n",
    "train_dataloader = DataLoader(\n",
    "    train_dataset, batch_size=batch_size, shuffle=True\n",
    ")\n",
    "\n",
    "test_dataloader = DataLoader(test_dataset, batch_size=batch_size)"
   ]
  },
  {
   "cell_type": "markdown",
   "metadata": {},
   "source": [
    "# Model"
   ]
  },
  {
   "cell_type": "code",
   "execution_count": 6,
   "metadata": {},
   "outputs": [],
   "source": [
    "from torchvision import models\n",
    "\n",
    "# https://pytorch.org/tutorials/beginner/transfer_learning_tutorial.html\n",
    "model = models.resnet50(weights='DEFAULT')\n",
    "num_ftrs = model.fc.in_features\n",
    "# Here the size of each output sample is set to 2.\n",
    "# Alternatively, it can be generalized to ``nn.Linear(num_ftrs, len(class_names))``.\n",
    "model.fc = torch.nn.Linear(num_ftrs, 2)\n",
    "\n",
    "model = model.to(device)"
   ]
  },
  {
   "cell_type": "markdown",
   "metadata": {},
   "source": [
    "# Train"
   ]
  },
  {
   "cell_type": "code",
   "execution_count": 7,
   "metadata": {},
   "outputs": [
    {
     "name": "stdout",
     "output_type": "stream",
     "text": [
      "Epoch 1/25\n",
      "----------\n",
      "Train loss: 5.8905 Acc: 0.6234\n",
      "Val loss: 1.1929 Acc: 0.8696\n",
      "Validation loss decreased (inf --> 1.192893).  Saving model ...\n",
      "\n",
      "Epoch 2/25\n",
      "----------\n",
      "Train loss: 5.0195 Acc: 0.7922\n",
      "Val loss: 8.1965 Acc: 0.4348\n",
      "EarlyStopping counter: 1 out of 10\n",
      "\n",
      "Epoch 3/25\n",
      "----------\n",
      "Train loss: 2.1387 Acc: 0.9221\n",
      "Val loss: 2.1616 Acc: 0.6522\n",
      "EarlyStopping counter: 2 out of 10\n",
      "\n",
      "Epoch 4/25\n",
      "----------\n",
      "Train loss: 1.6848 Acc: 0.9351\n",
      "Val loss: 4.0057 Acc: 0.7826\n",
      "EarlyStopping counter: 3 out of 10\n",
      "\n",
      "Epoch 5/25\n",
      "----------\n",
      "Train loss: 3.1283 Acc: 0.8831\n",
      "Val loss: 5.0418 Acc: 0.6522\n",
      "Epoch 00005: reducing learning rate of group 0 to 1.0000e-04.\n",
      "EarlyStopping counter: 4 out of 10\n",
      "\n",
      "Epoch 6/25\n",
      "----------\n",
      "Train loss: 2.2462 Acc: 0.9091\n",
      "Val loss: 1.2796 Acc: 0.9130\n",
      "EarlyStopping counter: 5 out of 10\n",
      "\n",
      "Epoch 7/25\n",
      "----------\n",
      "Train loss: 1.3716 Acc: 0.9481\n",
      "Val loss: 0.9551 Acc: 0.9565\n",
      "Validation loss decreased (1.192893 --> 0.955081).  Saving model ...\n",
      "\n",
      "Epoch 8/25\n",
      "----------\n",
      "Train loss: 0.6080 Acc: 1.0000\n",
      "Val loss: 0.8331 Acc: 0.9565\n",
      "Validation loss decreased (0.955081 --> 0.833135).  Saving model ...\n",
      "\n",
      "Epoch 9/25\n",
      "----------\n",
      "Train loss: 0.2905 Acc: 1.0000\n",
      "Val loss: 0.7880 Acc: 0.9130\n",
      "Validation loss decreased (0.833135 --> 0.787988).  Saving model ...\n",
      "\n",
      "Epoch 10/25\n",
      "----------\n",
      "Train loss: 0.2268 Acc: 1.0000\n",
      "Val loss: 0.7321 Acc: 0.9130\n",
      "Validation loss decreased (0.787988 --> 0.732117).  Saving model ...\n",
      "\n",
      "Epoch 11/25\n",
      "----------\n",
      "Train loss: 0.3818 Acc: 1.0000\n",
      "Val loss: 0.7337 Acc: 0.9130\n",
      "EarlyStopping counter: 1 out of 10\n",
      "\n",
      "Epoch 12/25\n",
      "----------\n",
      "Train loss: 0.2111 Acc: 1.0000\n",
      "Val loss: 0.7185 Acc: 0.9130\n",
      "Validation loss decreased (0.732117 --> 0.718503).  Saving model ...\n",
      "\n",
      "Epoch 13/25\n",
      "----------\n",
      "Train loss: 0.1700 Acc: 1.0000\n",
      "Val loss: 0.8316 Acc: 0.8696\n",
      "EarlyStopping counter: 1 out of 10\n",
      "\n",
      "Epoch 14/25\n",
      "----------\n",
      "Train loss: 0.0801 Acc: 1.0000\n",
      "Val loss: 0.8316 Acc: 0.8696\n",
      "EarlyStopping counter: 2 out of 10\n",
      "\n",
      "Epoch 15/25\n",
      "----------\n",
      "Train loss: 0.1253 Acc: 1.0000\n",
      "Val loss: 0.7013 Acc: 0.9130\n",
      "Validation loss decreased (0.718503 --> 0.701328).  Saving model ...\n",
      "\n",
      "Epoch 16/25\n",
      "----------\n",
      "Train loss: 0.0731 Acc: 1.0000\n",
      "Val loss: 0.6912 Acc: 0.9130\n",
      "Validation loss decreased (0.701328 --> 0.691156).  Saving model ...\n",
      "\n",
      "Epoch 17/25\n",
      "----------\n",
      "Train loss: 0.0493 Acc: 1.0000\n",
      "Val loss: 0.7010 Acc: 0.9130\n",
      "EarlyStopping counter: 1 out of 10\n",
      "\n",
      "Epoch 18/25\n",
      "----------\n",
      "Train loss: 0.8885 Acc: 0.9740\n",
      "Val loss: 1.1653 Acc: 0.7826\n",
      "EarlyStopping counter: 2 out of 10\n",
      "\n",
      "Epoch 19/25\n",
      "----------\n",
      "Train loss: 0.3945 Acc: 0.9740\n",
      "Val loss: 1.0602 Acc: 0.7826\n",
      "EarlyStopping counter: 3 out of 10\n",
      "\n",
      "Epoch 20/25\n",
      "----------\n",
      "Train loss: 0.1003 Acc: 1.0000\n",
      "Val loss: 1.0228 Acc: 0.7826\n",
      "Epoch 00020: reducing learning rate of group 0 to 1.0000e-05.\n",
      "EarlyStopping counter: 4 out of 10\n",
      "\n",
      "Epoch 21/25\n",
      "----------\n",
      "Train loss: 0.1407 Acc: 1.0000\n",
      "Val loss: 1.0425 Acc: 0.7826\n",
      "EarlyStopping counter: 5 out of 10\n",
      "\n",
      "Epoch 22/25\n",
      "----------\n",
      "Train loss: 0.0553 Acc: 1.0000\n",
      "Val loss: 1.0371 Acc: 0.7826\n",
      "EarlyStopping counter: 6 out of 10\n",
      "\n",
      "Epoch 23/25\n",
      "----------\n",
      "Train loss: 0.0636 Acc: 1.0000\n",
      "Val loss: 1.0266 Acc: 0.7826\n",
      "EarlyStopping counter: 7 out of 10\n",
      "\n",
      "Epoch 24/25\n",
      "----------\n",
      "Train loss: 0.1128 Acc: 1.0000\n",
      "Val loss: 1.0071 Acc: 0.7826\n",
      "Epoch 00024: reducing learning rate of group 0 to 1.0000e-06.\n",
      "EarlyStopping counter: 8 out of 10\n",
      "\n",
      "Epoch 25/25\n",
      "----------\n",
      "Train loss: 0.1610 Acc: 1.0000\n",
      "Val loss: 0.9689 Acc: 0.7826\n",
      "EarlyStopping counter: 9 out of 10\n",
      "\n",
      "Training complete in 0m 1s\n",
      "Best val loss: 0.691156\n",
      "Loading the best model from OASIS_2D\\results\\ResNet\\best_model_params.pt\n"
     ]
    }
   ],
   "source": [
    "from OASIS_2D.oasis import Experiment\n",
    "\n",
    "result_dir = os.path.join('OASIS_2D', 'results', model._get_name())\n",
    "exp = Experiment(result_dir=result_dir, device=device)\n",
    "\n",
    "exp.train(\n",
    "    model, train_dataloader=train_dataloader, \n",
    "    val_dataloader=test_dataloader,\n",
    "    epochs=25, learning_rate=1e-3\n",
    ")"
   ]
  },
  {
   "cell_type": "markdown",
   "metadata": {},
   "source": [
    "# Test"
   ]
  },
  {
   "cell_type": "code",
   "execution_count": 8,
   "metadata": {},
   "outputs": [
    {
     "name": "stdout",
     "output_type": "stream",
     "text": [
      "Loss: 0.0134, Accuracy 1.0000, F1 1.0000, AUC 1.0000.\n",
      "Loss: 0.6912, Accuracy 0.9130, F1 0.9286, AUC 1.0000.\n"
     ]
    }
   ],
   "source": [
    "train_result = exp.test(model, train_dataloader)\n",
    "test_result = exp.test(model, test_dataloader)"
   ]
  },
  {
   "cell_type": "code",
   "execution_count": 9,
   "metadata": {},
   "outputs": [],
   "source": [
    "import json\n",
    "\n",
    "with open(os.path.join(result_dir, 'train.json'), 'w') as output_file:\n",
    "    json.dump(train_result, output_file, indent=4)"
   ]
  },
  {
   "cell_type": "code",
   "execution_count": 10,
   "metadata": {},
   "outputs": [],
   "source": [
    "with open(os.path.join(result_dir, 'test.json'), 'w') as output_file:\n",
    "    json.dump(test_result, output_file, indent=4)"
   ]
  }
 ],
 "metadata": {
  "kernelspec": {
   "display_name": "Python 3",
   "language": "python",
   "name": "python3"
  },
  "language_info": {
   "codemirror_mode": {
    "name": "ipython",
    "version": 3
   },
   "file_extension": ".py",
   "mimetype": "text/x-python",
   "name": "python",
   "nbconvert_exporter": "python",
   "pygments_lexer": "ipython3",
   "version": "3.10.11"
  }
 },
 "nbformat": 4,
 "nbformat_minor": 2
}
