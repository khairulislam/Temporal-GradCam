{
 "cells": [
  {
   "cell_type": "markdown",
   "metadata": {},
   "source": [
    "# Imports"
   ]
  },
  {
   "cell_type": "code",
   "execution_count": 1,
   "metadata": {},
   "outputs": [],
   "source": [
    "import os, torch, random\n",
    "import SimpleITK\n",
    "import numpy as np\n",
    "import matplotlib.pyplot as plt \n",
    "from torchvision import transforms\n",
    "from torch.utils.data import DataLoader\n",
    "import re\n",
    "from sklearn.metrics import accuracy_score, f1_score, roc_auc_score"
   ]
  },
  {
   "cell_type": "code",
   "execution_count": 2,
   "metadata": {},
   "outputs": [],
   "source": [
    "SEED = 2024\n",
    "\n",
    "def seed_everything(seed):\n",
    "    random.seed(seed)\n",
    "    torch.manual_seed(seed)\n",
    "    np.random.seed(seed)\n",
    "\n",
    "seed_everything(SEED)"
   ]
  },
  {
   "cell_type": "markdown",
   "metadata": {},
   "source": [
    "## GPU"
   ]
  },
  {
   "cell_type": "code",
   "execution_count": 3,
   "metadata": {},
   "outputs": [
    {
     "name": "stdout",
     "output_type": "stream",
     "text": [
      "Using cuda device\n"
     ]
    }
   ],
   "source": [
    "# Get cpu, gpu or mps device for training.\n",
    "device = (\n",
    "    \"cuda\"\n",
    "    if torch.cuda.is_available()\n",
    "    else \"mps\"\n",
    "    if torch.backends.mps.is_available()\n",
    "    else \"cpu\"\n",
    ")\n",
    "print(f\"Using {device} device\")"
   ]
  },
  {
   "cell_type": "markdown",
   "metadata": {},
   "source": [
    "# Dataset"
   ]
  },
  {
   "cell_type": "code",
   "execution_count": 4,
   "metadata": {},
   "outputs": [],
   "source": [
    "data_transforms = {\n",
    "    'train': transforms.Compose([\n",
    "        # Converts a PIL Image or numpy.ndarray (H x W x C) in the range [0, 255] \n",
    "        # to a torch.FloatTensor of shape (C x H x W) in the range [0.0, 1.0]\n",
    "        transforms.ToTensor(), \n",
    "        # transforms.RandomResizedCrop(224),\n",
    "        # transforms.RandomHorizontalFlip(),\n",
    "    ]),\n",
    "    'test': transforms.Compose([\n",
    "        transforms.ToTensor(), # PIL Image or numpy.ndarray (H x W x C)\n",
    "        # transforms.Resize(256),\n",
    "        # transforms.CenterCrop(224)\n",
    "    ]),\n",
    "}"
   ]
  },
  {
   "cell_type": "code",
   "execution_count": 5,
   "metadata": {},
   "outputs": [
    {
     "name": "stdout",
     "output_type": "stream",
     "text": [
      "Total 77, disease 37, healthy 40.             Unique patients 42.\n",
      "Total 23, disease 13, healthy 10.             Unique patients 11.\n"
     ]
    }
   ],
   "source": [
    "from OASIS_2D.dataset import OASIS_Dataset\n",
    "\n",
    "train_dataset = OASIS_Dataset(train=True, seed=SEED)\n",
    "test_dataset = OASIS_Dataset(train=False, seed=SEED)\n",
    "\n",
    "batch_size = 8\n",
    "train_dataloader = DataLoader(\n",
    "    train_dataset, batch_size=batch_size, shuffle=True\n",
    ")\n",
    "\n",
    "test_dataloader = DataLoader(test_dataset, batch_size=batch_size)"
   ]
  },
  {
   "cell_type": "markdown",
   "metadata": {},
   "source": [
    "# Model"
   ]
  },
  {
   "cell_type": "code",
   "execution_count": 6,
   "metadata": {},
   "outputs": [],
   "source": [
    "from torchvision import models\n",
    "\n",
    "# https://pytorch.org/tutorials/beginner/transfer_learning_tutorial.html\n",
    "model = models.resnet50(weights='DEFAULT')\n",
    "num_ftrs = model.fc.in_features\n",
    "# Here the size of each output sample is set to 2.\n",
    "# Alternatively, it can be generalized to ``nn.Linear(num_ftrs, len(class_names))``.\n",
    "model.fc = torch.nn.Linear(num_ftrs, 2)\n",
    "\n",
    "model = model.to(device)"
   ]
  },
  {
   "cell_type": "markdown",
   "metadata": {},
   "source": [
    "# Train"
   ]
  },
  {
   "cell_type": "code",
   "execution_count": 7,
   "metadata": {},
   "outputs": [
    {
     "name": "stdout",
     "output_type": "stream",
     "text": [
      "Epoch 1/25\n",
      "----------\n",
      "Train loss: 6.3170 Acc: 0.5974\n",
      "Val loss: 1.6137 Acc: 0.7391\n",
      "Validation loss decreased (inf --> 1.613694).  Saving model ...\n",
      "\n",
      "Epoch 2/25\n",
      "----------\n",
      "Train loss: 3.8952 Acc: 0.8312\n",
      "Val loss: 13.4306 Acc: 0.7826\n",
      "EarlyStopping counter: 1 out of 10\n",
      "\n",
      "Epoch 3/25\n",
      "----------\n",
      "Train loss: 1.1214 Acc: 0.9481\n",
      "Val loss: 25.3754 Acc: 0.4348\n",
      "EarlyStopping counter: 2 out of 10\n",
      "\n",
      "Epoch 4/25\n",
      "----------\n",
      "Train loss: 1.9221 Acc: 0.9351\n",
      "Val loss: 1.5016 Acc: 0.7826\n",
      "Validation loss decreased (1.613694 --> 1.501584).  Saving model ...\n",
      "\n",
      "Epoch 5/25\n",
      "----------\n",
      "Train loss: 0.7966 Acc: 0.9610\n",
      "Val loss: 0.8800 Acc: 0.9130\n",
      "Validation loss decreased (1.501584 --> 0.880039).  Saving model ...\n",
      "\n",
      "Epoch 6/25\n",
      "----------\n",
      "Train loss: 4.4828 Acc: 0.8442\n",
      "Val loss: 3.7451 Acc: 0.6087\n",
      "EarlyStopping counter: 1 out of 10\n",
      "\n",
      "Epoch 7/25\n",
      "----------\n",
      "Train loss: 2.1993 Acc: 0.9091\n",
      "Val loss: 0.9399 Acc: 0.8261\n",
      "EarlyStopping counter: 2 out of 10\n",
      "\n",
      "Epoch 8/25\n",
      "----------\n",
      "Train loss: 0.4782 Acc: 1.0000\n",
      "Val loss: 23.1360 Acc: 0.5652\n",
      "EarlyStopping counter: 3 out of 10\n",
      "\n",
      "Epoch 9/25\n",
      "----------\n",
      "Train loss: 0.1115 Acc: 1.0000\n",
      "Val loss: 12.1807 Acc: 0.5652\n",
      "Epoch 00009: reducing learning rate of group 0 to 1.0000e-04.\n",
      "EarlyStopping counter: 4 out of 10\n",
      "\n",
      "Epoch 10/25\n",
      "----------\n",
      "Train loss: 0.0406 Acc: 1.0000\n",
      "Val loss: 3.2975 Acc: 0.6087\n",
      "EarlyStopping counter: 5 out of 10\n",
      "\n",
      "Epoch 11/25\n",
      "----------\n",
      "Train loss: 0.2196 Acc: 1.0000\n",
      "Val loss: 3.1948 Acc: 0.6087\n",
      "EarlyStopping counter: 6 out of 10\n",
      "\n",
      "Epoch 12/25\n",
      "----------\n",
      "Train loss: 0.0785 Acc: 1.0000\n",
      "Val loss: 3.1544 Acc: 0.6087\n",
      "EarlyStopping counter: 7 out of 10\n",
      "\n",
      "Epoch 13/25\n",
      "----------\n",
      "Train loss: 0.0558 Acc: 1.0000\n",
      "Val loss: 3.8092 Acc: 0.6087\n",
      "Epoch 00013: reducing learning rate of group 0 to 1.0000e-05.\n",
      "EarlyStopping counter: 8 out of 10\n",
      "\n",
      "Epoch 14/25\n",
      "----------\n",
      "Train loss: 0.0287 Acc: 1.0000\n",
      "Val loss: 3.6826 Acc: 0.6087\n",
      "EarlyStopping counter: 9 out of 10\n",
      "\n",
      "Epoch 15/25\n",
      "----------\n",
      "Train loss: 0.0854 Acc: 1.0000\n",
      "Val loss: 3.1920 Acc: 0.6087\n",
      "EarlyStopping counter: 10 out of 10\n",
      "Early stopping ....\n",
      "\n",
      "Training complete in 0m 1s\n",
      "Best val loss: 0.880039\n",
      "Loading the best model from OASIS_2D\\scratch\\ResNet\\best_model_params.pt\n"
     ]
    }
   ],
   "source": [
    "from OASIS_2D.oasis import Experiment\n",
    "\n",
    "result_dir = os.path.join('OASIS_2D', 'scratch', model._get_name())\n",
    "exp = Experiment(result_dir=result_dir, device=device)\n",
    "\n",
    "train_history = exp.train(\n",
    "    model, train_dataloader=train_dataloader, \n",
    "    val_dataloader=test_dataloader,\n",
    "    epochs=25, learning_rate=1e-3\n",
    ")"
   ]
  },
  {
   "cell_type": "code",
   "execution_count": 12,
   "metadata": {},
   "outputs": [],
   "source": [
    "import matplotlib.pyplot as plt\n",
    "%matplotlib inline"
   ]
  },
  {
   "cell_type": "code",
   "execution_count": 17,
   "metadata": {},
   "outputs": [
    {
     "data": {
      "image/png": "[encoded data removed]",
      "text/plain": [
       "<Figure size 576x360 with 1 Axes>"
      ]
     },
     "metadata": {
      "needs_background": "light"
     },
     "output_type": "display_data"
    }
   ],
   "source": [
    "plt.figure(figsize=(8, 5))\n",
    "plt.plot(train_history['epoch'], train_history['train_loss'], label='Train loss')\n",
    "plt.plot(train_history['epoch'], train_history['val_loss'], label='Val loss')\n",
    "plt.xlabel('Train Epochs')\n",
    "plt.ylabel('Cross Entropy Loss')\n",
    "plt.legend()\n",
    "plt.show()"
   ]
  },
  {
   "cell_type": "markdown",
   "metadata": {},
   "source": [
    "# Test"
   ]
  },
  {
   "cell_type": "code",
   "execution_count": 8,
   "metadata": {},
   "outputs": [
    {
     "name": "stdout",
     "output_type": "stream",
     "text": [
      "Loss: 1.3661, Accuracy 0.9610, F1 0.9577, AUC 0.9885.\n",
      "Loss: 0.8800, Accuracy 0.9130, F1 0.9167, AUC 1.0000.\n"
     ]
    }
   ],
   "source": [
    "train_result = exp.test(model, train_dataloader)\n",
    "test_result = exp.test(model, test_dataloader)"
   ]
  },
  {
   "cell_type": "code",
   "execution_count": 9,
   "metadata": {},
   "outputs": [],
   "source": [
    "import json\n",
    "\n",
    "with open(os.path.join(result_dir, 'train.json'), 'w') as output_file:\n",
    "    json.dump(train_result, output_file, indent=4)"
   ]
  },
  {
   "cell_type": "code",
   "execution_count": 10,
   "metadata": {},
   "outputs": [],
   "source": [
    "with open(os.path.join(result_dir, 'test.json'), 'w') as output_file:\n",
    "    json.dump(test_result, output_file, indent=4)"
   ]
  }
 ],
 "metadata": {
  "kernelspec": {
   "display_name": "Python 3",
   "language": "python",
   "name": "python3"
  },
  "language_info": {
   "codemirror_mode": {
    "name": "ipython",
    "version": 3
   },
   "file_extension": ".py",
   "mimetype": "text/x-python",
   "name": "python",
   "nbconvert_exporter": "python",
   "pygments_lexer": "ipython3",
   "version": "3.10.11"
  }
 },
 "nbformat": 4,
 "nbformat_minor": 2
}
