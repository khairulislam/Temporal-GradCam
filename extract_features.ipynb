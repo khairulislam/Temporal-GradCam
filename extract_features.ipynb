{
 "cells": [
  {
   "cell_type": "markdown",
   "metadata": {},
   "source": [
    "# Imports"
   ]
  },
  {
   "cell_type": "code",
   "execution_count": 1,
   "metadata": {},
   "outputs": [],
   "source": [
    "import os, torch, random\n",
    "import SimpleITK, re\n",
    "import numpy as np\n",
    "import matplotlib.pyplot as plt \n",
    "from torchvision import transforms, models\n",
    "from torch.utils.data import DataLoader\n",
    "import re\n",
    "from sklearn.metrics import accuracy_score, f1_score, roc_auc_score\n",
    "\n",
    "from torch.optim.lr_scheduler import ReduceLROnPlateau\n",
    "from utils.callbacks import EarlyStopping\n",
    "from sklearn.metrics import roc_auc_score, f1_score, accuracy_score"
   ]
  },
  {
   "cell_type": "code",
   "execution_count": 2,
   "metadata": {},
   "outputs": [],
   "source": [
    "SEED = 2024\n",
    "\n",
    "def seed_everything(seed):\n",
    "    random.seed(seed)\n",
    "    torch.manual_seed(seed)\n",
    "    np.random.seed(seed)\n",
    "\n",
    "seed_everything(SEED)"
   ]
  },
  {
   "cell_type": "markdown",
   "metadata": {},
   "source": [
    "## GPU"
   ]
  },
  {
   "cell_type": "code",
   "execution_count": 3,
   "metadata": {},
   "outputs": [
    {
     "name": "stdout",
     "output_type": "stream",
     "text": [
      "Using cuda device\n"
     ]
    }
   ],
   "source": [
    "# Get cpu, gpu or mps device for training.\n",
    "device = (\n",
    "    \"cuda\"\n",
    "    if torch.cuda.is_available()\n",
    "    else \"mps\"\n",
    "    if torch.backends.mps.is_available()\n",
    "    else \"cpu\"\n",
    ")\n",
    "print(f\"Using {device} device\")"
   ]
  },
  {
   "cell_type": "markdown",
   "metadata": {},
   "source": [
    "# Dataset"
   ]
  },
  {
   "cell_type": "code",
   "execution_count": 4,
   "metadata": {},
   "outputs": [],
   "source": [
    "data_transforms = {\n",
    "    'train': transforms.Compose([\n",
    "        # Converts a PIL Image or numpy.ndarray (H x W x C) in the range [0, 255] \n",
    "        # to a torch.FloatTensor of shape (C x H x W) in the range [0.0, 1.0]\n",
    "        transforms.ToTensor(), \n",
    "        # transforms.RandomResizedCrop(224),\n",
    "        # transforms.RandomHorizontalFlip(),\n",
    "    ]),\n",
    "    'test': transforms.Compose([\n",
    "        transforms.ToTensor(), # PIL Image or numpy.ndarray (H x W x C)\n",
    "        # transforms.Resize(256),\n",
    "        # transforms.CenterCrop(224)\n",
    "    ]),\n",
    "}"
   ]
  },
  {
   "cell_type": "code",
   "execution_count": 5,
   "metadata": {},
   "outputs": [
    {
     "name": "stdout",
     "output_type": "stream",
     "text": [
      "Total 100, disease 50, healthy 50.\n"
     ]
    }
   ],
   "source": [
    "from OASIS_2D.dataset import OASIS_Dataset\n",
    "\n",
    "total_dataset = OASIS_Dataset(flag='all', seed=SEED)\n",
    "\n",
    "batch_size = 8\n",
    "total_dataloader = DataLoader(\n",
    "    total_dataset, batch_size=batch_size\n",
    ")"
   ]
  },
  {
   "cell_type": "markdown",
   "metadata": {},
   "source": [
    "# Extract features "
   ]
  },
  {
   "cell_type": "markdown",
   "metadata": {},
   "source": [
    "## Model"
   ]
  },
  {
   "cell_type": "code",
   "execution_count": 125,
   "metadata": {},
   "outputs": [],
   "source": [
    "# https://pytorch.org/tutorials/beginner/transfer_learning_tutorial.html\n",
    "model = models.resnet18(weights='DEFAULT')\n",
    "\n",
    "# Here, we need to freeze all the network except the final layer. \n",
    "# We need to set requires_grad = False to freeze the parameters \n",
    "# so that the gradients are not computed in backward().\n",
    "for param in model.parameters():\n",
    "    param.requires_grad = False\n",
    "    \n",
    "# Parameters of newly constructed modules have requires_grad=True by default\n",
    "num_ftrs = model.fc.in_features\n",
    "# Here the size of each output sample is set to 2.\n",
    "# Alternatively, it can be generalized to ``nn.Linear(num_ftrs, len(class_names))``.\n",
    "model.fc = torch.nn.Linear(num_ftrs, 2)\n",
    "\n",
    "model.to(device)"
   ]
  },
  {
   "cell_type": "markdown",
   "metadata": {},
   "source": [
    "## Extractor"
   ]
  },
  {
   "cell_type": "code",
   "execution_count": 126,
   "metadata": {},
   "outputs": [],
   "source": [
    "from torchvision.models.feature_extraction import create_feature_extractor\n",
    "\n",
    "return_nodes = {\n",
    "    \"avgpool\": \"avgpool\",\n",
    "    \"fc\": \"fc\"\n",
    "}\n",
    "extractor = create_feature_extractor(\n",
    "    model, return_nodes=return_nodes\n",
    ")"
   ]
  },
  {
   "cell_type": "code",
   "execution_count": 127,
   "metadata": {},
   "outputs": [],
   "source": [
    "all_outputs = []\n",
    "for inputs, _ in total_dataloader:\n",
    "    inputs = inputs.to(device)\n",
    "    outputs = extractor(inputs)\n",
    "    \n",
    "    # only take the output before the final linear layer\n",
    "    # squeeze to remove pooled dimension (512, 1, 1) -> (512)\n",
    "    all_outputs.append(outputs['avgpool'].squeeze())\n",
    "    \n",
    "all_outputs = torch.vstack(all_outputs)\n",
    "all_outputs = all_outputs.detach().cpu().numpy()"
   ]
  },
  {
   "cell_type": "markdown",
   "metadata": {},
   "source": [
    "## Save"
   ]
  },
  {
   "cell_type": "code",
   "execution_count": 21,
   "metadata": {},
   "outputs": [],
   "source": [
    "features = {\n",
    "    'patient_id': total_dataset.patient_ids,\n",
    "    'day': total_dataset.days,\n",
    "    'label': total_dataset.labels,\n",
    "    'feature': all_outputs\n",
    "}"
   ]
  },
  {
   "cell_type": "code",
   "execution_count": 128,
   "metadata": {},
   "outputs": [],
   "source": [
    "result_dir = os.path.join('OASIS_2D', 'scratch', model._get_name())\n",
    "\n",
    "if not os.path.exists(result_dir):\n",
    "    os.makedirs(result_dir, exist_ok=True)\n",
    "    \n",
    "torch.save(features, os.path.join(result_dir, 'features.pt'))"
   ]
  }
 ],
 "metadata": {
  "kernelspec": {
   "display_name": "Python 3",
   "language": "python",
   "name": "python3"
  },
  "language_info": {
   "codemirror_mode": {
    "name": "ipython",
    "version": 3
   },
   "file_extension": ".py",
   "mimetype": "text/x-python",
   "name": "python",
   "nbconvert_exporter": "python",
   "pygments_lexer": "ipython3",
   "version": "3.10.11"
  }
 },
 "nbformat": 4,
 "nbformat_minor": 2
}
